{
 "cells": [
  {
   "cell_type": "markdown",
   "metadata": {},
   "source": [
    "### Stage Two Analysis"
   ]
  },
  {
   "cell_type": "code",
   "execution_count": 36,
   "metadata": {},
   "outputs": [
    {
     "name": "stdout",
     "output_type": "stream",
     "text": [
      "(200005, 15)\n"
     ]
    }
   ],
   "source": [
    "import pandas as pd\n",
    "import numpy as np\n",
    "import matplotlib.pyplot as plt\n",
    "import seaborn as sns\n",
    "\n",
    "#import files xlsx\n",
    "df = pd.read_excel('marketing_campaign_dataset.xlsx')\n",
    "\n",
    "print(df.shape)\n"
   ]
  },
  {
   "cell_type": "code",
   "execution_count": 23,
   "metadata": {},
   "outputs": [
    {
     "data": {
      "text/html": [
       "<div>\n",
       "<style scoped>\n",
       "    .dataframe tbody tr th:only-of-type {\n",
       "        vertical-align: middle;\n",
       "    }\n",
       "\n",
       "    .dataframe tbody tr th {\n",
       "        vertical-align: top;\n",
       "    }\n",
       "\n",
       "    .dataframe thead th {\n",
       "        text-align: right;\n",
       "    }\n",
       "</style>\n",
       "<table border=\"1\" class=\"dataframe\">\n",
       "  <thead>\n",
       "    <tr style=\"text-align: right;\">\n",
       "      <th></th>\n",
       "      <th>Campaign_ID</th>\n",
       "      <th>Company</th>\n",
       "      <th>Campaign_Type</th>\n",
       "      <th>Target_Audience</th>\n",
       "      <th>Duration</th>\n",
       "      <th>Channel_Used</th>\n",
       "      <th>Conversion_Rate</th>\n",
       "      <th>Acquisition_Cost</th>\n",
       "      <th>ROI</th>\n",
       "      <th>Location</th>\n",
       "      <th>Date</th>\n",
       "      <th>Clicks</th>\n",
       "      <th>Impressions</th>\n",
       "      <th>Engagement_Score</th>\n",
       "      <th>Customer_Segment</th>\n",
       "    </tr>\n",
       "  </thead>\n",
       "  <tbody>\n",
       "    <tr>\n",
       "      <th>0</th>\n",
       "      <td>1</td>\n",
       "      <td>Innovate Industries</td>\n",
       "      <td>Email</td>\n",
       "      <td>Men 18-24</td>\n",
       "      <td>30 days</td>\n",
       "      <td>Google Ads</td>\n",
       "      <td>0.04</td>\n",
       "      <td>16174</td>\n",
       "      <td>6.29</td>\n",
       "      <td>Chicago</td>\n",
       "      <td>2021-01-01 00:00:00</td>\n",
       "      <td>506</td>\n",
       "      <td>1922</td>\n",
       "      <td>6</td>\n",
       "      <td>Health &amp; Wellness</td>\n",
       "    </tr>\n",
       "    <tr>\n",
       "      <th>1</th>\n",
       "      <td>2</td>\n",
       "      <td>NexGen Systems</td>\n",
       "      <td>Email</td>\n",
       "      <td>Women 35-44</td>\n",
       "      <td>60 days</td>\n",
       "      <td>Google Ads</td>\n",
       "      <td>0.12</td>\n",
       "      <td>11566</td>\n",
       "      <td>5.61</td>\n",
       "      <td>New York</td>\n",
       "      <td>2021-02-01 00:00:00</td>\n",
       "      <td>116</td>\n",
       "      <td>7523</td>\n",
       "      <td>7</td>\n",
       "      <td>Fashionistas</td>\n",
       "    </tr>\n",
       "    <tr>\n",
       "      <th>2</th>\n",
       "      <td>3</td>\n",
       "      <td>Alpha Innovations</td>\n",
       "      <td>Influencer</td>\n",
       "      <td>Men 25-34</td>\n",
       "      <td>30 days</td>\n",
       "      <td>YouTube</td>\n",
       "      <td>0.07</td>\n",
       "      <td>10200</td>\n",
       "      <td>7.18</td>\n",
       "      <td>Los Angeles</td>\n",
       "      <td>2021-03-01 00:00:00</td>\n",
       "      <td>584</td>\n",
       "      <td>7698</td>\n",
       "      <td>1</td>\n",
       "      <td>Outdoor Adventurers</td>\n",
       "    </tr>\n",
       "    <tr>\n",
       "      <th>3</th>\n",
       "      <td>4</td>\n",
       "      <td>DataTech Solutions</td>\n",
       "      <td>Display</td>\n",
       "      <td>All Ages</td>\n",
       "      <td>60 days</td>\n",
       "      <td>YouTube</td>\n",
       "      <td>0.11</td>\n",
       "      <td>12724</td>\n",
       "      <td>5.55</td>\n",
       "      <td>Miami</td>\n",
       "      <td>2021-04-01 00:00:00</td>\n",
       "      <td>217</td>\n",
       "      <td>1820</td>\n",
       "      <td>7</td>\n",
       "      <td>Health &amp; Wellness</td>\n",
       "    </tr>\n",
       "    <tr>\n",
       "      <th>4</th>\n",
       "      <td>5</td>\n",
       "      <td>NexGen Systems</td>\n",
       "      <td>Email</td>\n",
       "      <td>Men 25-34</td>\n",
       "      <td>15 days</td>\n",
       "      <td>YouTube</td>\n",
       "      <td>0.05</td>\n",
       "      <td>16452</td>\n",
       "      <td>6.50</td>\n",
       "      <td>Los Angeles</td>\n",
       "      <td>2021-05-01 00:00:00</td>\n",
       "      <td>379</td>\n",
       "      <td>4201</td>\n",
       "      <td>3</td>\n",
       "      <td>Health &amp; Wellness</td>\n",
       "    </tr>\n",
       "  </tbody>\n",
       "</table>\n",
       "</div>"
      ],
      "text/plain": [
       "   Campaign_ID              Company Campaign_Type Target_Audience Duration  \\\n",
       "0            1  Innovate Industries         Email       Men 18-24  30 days   \n",
       "1            2       NexGen Systems         Email     Women 35-44  60 days   \n",
       "2            3    Alpha Innovations    Influencer       Men 25-34  30 days   \n",
       "3            4   DataTech Solutions       Display        All Ages  60 days   \n",
       "4            5       NexGen Systems         Email       Men 25-34  15 days   \n",
       "\n",
       "  Channel_Used  Conversion_Rate  Acquisition_Cost   ROI     Location  \\\n",
       "0   Google Ads             0.04             16174  6.29      Chicago   \n",
       "1   Google Ads             0.12             11566  5.61     New York   \n",
       "2      YouTube             0.07             10200  7.18  Los Angeles   \n",
       "3      YouTube             0.11             12724  5.55        Miami   \n",
       "4      YouTube             0.05             16452  6.50  Los Angeles   \n",
       "\n",
       "                  Date  Clicks  Impressions  Engagement_Score  \\\n",
       "0  2021-01-01 00:00:00     506         1922                 6   \n",
       "1  2021-02-01 00:00:00     116         7523                 7   \n",
       "2  2021-03-01 00:00:00     584         7698                 1   \n",
       "3  2021-04-01 00:00:00     217         1820                 7   \n",
       "4  2021-05-01 00:00:00     379         4201                 3   \n",
       "\n",
       "      Customer_Segment  \n",
       "0    Health & Wellness  \n",
       "1         Fashionistas  \n",
       "2  Outdoor Adventurers  \n",
       "3    Health & Wellness  \n",
       "4    Health & Wellness  "
      ]
     },
     "execution_count": 23,
     "metadata": {},
     "output_type": "execute_result"
    }
   ],
   "source": [
    "df.head()"
   ]
  },
  {
   "cell_type": "code",
   "execution_count": 24,
   "metadata": {},
   "outputs": [
    {
     "data": {
      "text/plain": [
       "Campaign_ID         0\n",
       "Company             0\n",
       "Campaign_Type       0\n",
       "Target_Audience     0\n",
       "Duration            0\n",
       "Channel_Used        0\n",
       "Conversion_Rate     0\n",
       "Acquisition_Cost    0\n",
       "ROI                 0\n",
       "Location            0\n",
       "Date                0\n",
       "Clicks              0\n",
       "Impressions         0\n",
       "Engagement_Score    0\n",
       "Customer_Segment    0\n",
       "dtype: int64"
      ]
     },
     "execution_count": 24,
     "metadata": {},
     "output_type": "execute_result"
    }
   ],
   "source": [
    "df.isnull().sum()"
   ]
  },
  {
   "cell_type": "code",
   "execution_count": 25,
   "metadata": {},
   "outputs": [
    {
     "data": {
      "text/plain": [
       "Campaign_ID           int64\n",
       "Company              object\n",
       "Campaign_Type        object\n",
       "Target_Audience      object\n",
       "Duration             object\n",
       "Channel_Used         object\n",
       "Conversion_Rate     float64\n",
       "Acquisition_Cost      int64\n",
       "ROI                 float64\n",
       "Location             object\n",
       "Date                 object\n",
       "Clicks                int64\n",
       "Impressions           int64\n",
       "Engagement_Score      int64\n",
       "Customer_Segment     object\n",
       "dtype: object"
      ]
     },
     "execution_count": 25,
     "metadata": {},
     "output_type": "execute_result"
    }
   ],
   "source": [
    "#check data type\n",
    "df.dtypes"
   ]
  },
  {
   "cell_type": "code",
   "execution_count": 26,
   "metadata": {},
   "outputs": [
    {
     "data": {
      "text/plain": [
       "(200005, 15)"
      ]
     },
     "execution_count": 26,
     "metadata": {},
     "output_type": "execute_result"
    }
   ],
   "source": [
    "df.shape"
   ]
  },
  {
   "cell_type": "code",
   "execution_count": 27,
   "metadata": {},
   "outputs": [
    {
     "data": {
      "text/plain": [
       "Index(['Campaign_ID', 'Company', 'Campaign_Type', 'Target_Audience',\n",
       "       'Duration', 'Channel_Used', 'Conversion_Rate', 'Acquisition_Cost',\n",
       "       'ROI', 'Location', 'Date', 'Clicks', 'Impressions', 'Engagement_Score',\n",
       "       'Customer_Segment'],\n",
       "      dtype='object')"
      ]
     },
     "execution_count": 27,
     "metadata": {},
     "output_type": "execute_result"
    }
   ],
   "source": [
    "df.columns"
   ]
  },
  {
   "cell_type": "code",
   "execution_count": 28,
   "metadata": {},
   "outputs": [],
   "source": [
    "df['CTR'] = df['Clicks'] / df['Impressions'] * 100"
   ]
  },
  {
   "cell_type": "code",
   "execution_count": 34,
   "metadata": {},
   "outputs": [
    {
     "data": {
      "text/plain": [
       "0         6.29\n",
       "1         5.61\n",
       "2         7.18\n",
       "3         5.55\n",
       "4         6.50\n",
       "          ... \n",
       "200000    2.84\n",
       "200001    4.14\n",
       "200002    3.25\n",
       "200003    3.86\n",
       "200004    6.64\n",
       "Name: ROI, Length: 200005, dtype: float64"
      ]
     },
     "execution_count": 34,
     "metadata": {},
     "output_type": "execute_result"
    }
   ],
   "source": [
    "df[\"CPC\"] = df['Acquisition_Cost']/ df['Clicks']\n",
    "\n",
    "df['ROI']"
   ]
  },
  {
   "cell_type": "code",
   "execution_count": 39,
   "metadata": {},
   "outputs": [
    {
     "name": "stdout",
     "output_type": "stream",
     "text": [
      "\n",
      "Basic Statistics:\n",
      "               Clicks    Impressions  Acquisition_Cost            ROI\n",
      "count  200005.000000  200005.000000     200005.000000  200005.000000\n",
      "mean      549.774591    5507.307107      12504.441794       5.002416\n",
      "std       260.019354    2596.863794       4337.663210       1.734485\n",
      "min       100.000000    1000.000000       5000.000000       2.000000\n",
      "25%       325.000000    3266.000000       8740.000000       3.500000\n",
      "50%       550.000000    5518.000000      12497.000000       5.010000\n",
      "75%       775.000000    7753.000000      16264.000000       6.510000\n",
      "max      1000.000000   10000.000000      20000.000000       8.000000\n"
     ]
    }
   ],
   "source": [
    "\n",
    "\n",
    "# Basic statistics\n",
    "print(\"\\nBasic Statistics:\\n\", df[['Clicks', 'Impressions', 'Acquisition_Cost', 'ROI']].describe())\n",
    "\n"
   ]
  }
 ],
 "metadata": {
  "kernelspec": {
   "display_name": "Python 3 (base)",
   "language": "python",
   "name": "base"
  },
  "language_info": {
   "codemirror_mode": {
    "name": "ipython",
    "version": 3
   },
   "file_extension": ".py",
   "mimetype": "text/x-python",
   "name": "python",
   "nbconvert_exporter": "python",
   "pygments_lexer": "ipython3",
   "version": "3.11.7"
  }
 },
 "nbformat": 4,
 "nbformat_minor": 2
}
