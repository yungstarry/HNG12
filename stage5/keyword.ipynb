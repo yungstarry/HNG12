{
 "cells": [
  {
   "cell_type": "code",
   "execution_count": 65,
   "metadata": {},
   "outputs": [
    {
     "ename": "AttributeError",
     "evalue": "'DataFrame' object has no attribute 'summary'",
     "output_type": "error",
     "traceback": [
      "\u001b[1;31m---------------------------------------------------------------------------\u001b[0m",
      "\u001b[1;31mAttributeError\u001b[0m                            Traceback (most recent call last)",
      "\u001b[1;32m~\\AppData\\Local\\Temp\\ipykernel_17488\\4173676109.py\u001b[0m in \u001b[0;36m?\u001b[1;34m()\u001b[0m\n\u001b[0;32m      2\u001b[0m \u001b[1;33m\u001b[0m\u001b[0m\n\u001b[0;32m      3\u001b[0m \u001b[1;33m\u001b[0m\u001b[0m\n\u001b[0;32m      4\u001b[0m \u001b[1;33m\u001b[0m\u001b[0m\n\u001b[0;32m      5\u001b[0m \u001b[0mdf\u001b[0m \u001b[1;33m=\u001b[0m \u001b[0mpd\u001b[0m\u001b[1;33m.\u001b[0m\u001b[0mread_csv\u001b[0m\u001b[1;33m(\u001b[0m\u001b[1;34m'BackendIM_Keywords_with_intent.csv'\u001b[0m\u001b[1;33m)\u001b[0m\u001b[1;33m\u001b[0m\u001b[1;33m\u001b[0m\u001b[0m\n\u001b[1;32m----> 6\u001b[1;33m \u001b[0mprint\u001b[0m\u001b[1;33m(\u001b[0m\u001b[0mdf\u001b[0m\u001b[1;33m.\u001b[0m\u001b[0msummary\u001b[0m\u001b[1;33m(\u001b[0m\u001b[1;33m)\u001b[0m\u001b[1;33m)\u001b[0m\u001b[1;33m\u001b[0m\u001b[1;33m\u001b[0m\u001b[0m\n\u001b[0m",
      "\u001b[1;32mc:\\Users\\HP\\anaconda3\\Lib\\site-packages\\pandas\\core\\generic.py\u001b[0m in \u001b[0;36m?\u001b[1;34m(self, name)\u001b[0m\n\u001b[0;32m   6200\u001b[0m             \u001b[1;32mand\u001b[0m \u001b[0mname\u001b[0m \u001b[1;32mnot\u001b[0m \u001b[1;32min\u001b[0m \u001b[0mself\u001b[0m\u001b[1;33m.\u001b[0m\u001b[0m_accessors\u001b[0m\u001b[1;33m\u001b[0m\u001b[1;33m\u001b[0m\u001b[0m\n\u001b[0;32m   6201\u001b[0m             \u001b[1;32mand\u001b[0m \u001b[0mself\u001b[0m\u001b[1;33m.\u001b[0m\u001b[0m_info_axis\u001b[0m\u001b[1;33m.\u001b[0m\u001b[0m_can_hold_identifiers_and_holds_name\u001b[0m\u001b[1;33m(\u001b[0m\u001b[0mname\u001b[0m\u001b[1;33m)\u001b[0m\u001b[1;33m\u001b[0m\u001b[1;33m\u001b[0m\u001b[0m\n\u001b[0;32m   6202\u001b[0m         ):\n\u001b[0;32m   6203\u001b[0m             \u001b[1;32mreturn\u001b[0m \u001b[0mself\u001b[0m\u001b[1;33m[\u001b[0m\u001b[0mname\u001b[0m\u001b[1;33m]\u001b[0m\u001b[1;33m\u001b[0m\u001b[1;33m\u001b[0m\u001b[0m\n\u001b[1;32m-> 6204\u001b[1;33m         \u001b[1;32mreturn\u001b[0m \u001b[0mobject\u001b[0m\u001b[1;33m.\u001b[0m\u001b[0m__getattribute__\u001b[0m\u001b[1;33m(\u001b[0m\u001b[0mself\u001b[0m\u001b[1;33m,\u001b[0m \u001b[0mname\u001b[0m\u001b[1;33m)\u001b[0m\u001b[1;33m\u001b[0m\u001b[1;33m\u001b[0m\u001b[0m\n\u001b[0m",
      "\u001b[1;31mAttributeError\u001b[0m: 'DataFrame' object has no attribute 'summary'"
     ]
    }
   ],
   "source": [
    "import pandas as pd\n",
    "\n",
    "\n",
    "\n",
    "df = pd.read_csv('BackendIM_Keywords_with_intent.csv')\n",
    "print(df.summary())"
   ]
  },
  {
   "cell_type": "code",
   "execution_count": 49,
   "metadata": {},
   "outputs": [
    {
     "name": "stdout",
     "output_type": "stream",
     "text": [
      "Total rows after cleaning: 7772\n"
     ]
    }
   ],
   "source": [
    "# Fill missing search volume with 0, convert to numeric\n",
    "df['Avg. monthly searches'] = pd.to_numeric(df['Avg. monthly searches'], errors='coerce').fillna(0)\n",
    "df.dropna(subset=['Keyword'], inplace=True)  # Drop rows with no keyword\n",
    "print(f\"Total rows after cleaning: {len(df)}\")"
   ]
  },
  {
   "cell_type": "code",
   "execution_count": null,
   "metadata": {},
   "outputs": [
    {
     "name": "stdout",
     "output_type": "stream",
     "text": [
      "Filtered rows: 6712\n"
     ]
    }
   ],
   "source": [
    "# Filter relevant keywords\n",
    "relevant_terms = ['api', 'backend', 'development', 'test', 'deploy', 'agile']\n",
    "relevant_df = df[df['Keyword'].str.contains('|'.join(relevant_terms), case=False, na=False)]\n",
    "print(f\"Filtered rows: {len(relevant_df)}\")"
   ]
  },
  {
   "cell_type": "code",
   "execution_count": 55,
   "metadata": {},
   "outputs": [],
   "source": [
    "# Vectorize keywords\n",
    "vectorizer = TfidfVectorizer()\n",
    "X = vectorizer.fit_transform(relevant_df['Keyword'])"
   ]
  },
  {
   "cell_type": "code",
   "execution_count": 56,
   "metadata": {},
   "outputs": [],
   "source": [
    "# Cluster into 4 groups\n",
    "kmeans = KMeans(n_clusters=4, random_state=42)\n",
    "relevant_df.loc[:, 'Cluster'] = kmeans.fit_predict(X)"
   ]
  },
  {
   "cell_type": "code",
   "execution_count": 33,
   "metadata": {},
   "outputs": [
    {
     "name": "stdout",
     "output_type": "stream",
     "text": [
      "\n",
      "Commercial Intent:\n",
      "                                      Keyword  Avg. monthly searches\n",
      "499             adaptive software development              5000000.0\n",
      "126                software agile development               500000.0\n",
      "464    agile software development methodology               500000.0\n",
      "471  manifesto for agile software development                50000.0\n",
      "210                    agile software meaning                50000.0\n",
      "\n",
      "Informational Intent:\n",
      "                                       Keyword  Avg. monthly searches\n",
      "9                    agile development process                50000.0\n",
      "10                   agile methodology process                50000.0\n",
      "1005        software engineering agile process                 5000.0\n",
      "718   agile process model software engineering                 5000.0\n",
      "902          introduction to agile development                 5000.0\n",
      "\n",
      "Navigational Intent:\n",
      "                            Keyword  Avg. monthly searches\n",
      "465        agile system development               500000.0\n",
      "93    google map api for developers               500000.0\n",
      "1634                test online api                50000.0\n",
      "1066                test api online                50000.0\n",
      "1207         online api for testing                50000.0\n",
      "\n",
      "Transactional Intent:\n",
      "                                          Keyword  Avg. monthly searches\n",
      "5991      agile project management software tools                50000.0\n",
      "6348  agile software development management tools                50000.0\n",
      "1133                            stress test tools                 5000.0\n",
      "4071                         api management tools                 5000.0\n",
      "118                                api docs tools                 5000.0\n"
     ]
    }
   ],
   "source": [
    "import pandas as pd\n",
    "\n",
    "# Define a function to infer intent\n",
    "def assign_intent(keyword):\n",
    "    if 'how to' in keyword or 'process' in keyword or 'introduction' in keyword:\n",
    "        return 'Informational'\n",
    "    elif 'tools' in keyword or 'platform' in keyword or 'deploy' in keyword:\n",
    "        return 'Transactional'\n",
    "    elif 'best' in keyword or ('software' in keyword.lower() and 'tools' not in keyword):\n",
    "        return 'Commercial'\n",
    "    else:\n",
    "        return 'Navigational'\n",
    "\n",
    "# Remove duplicates (optional, if needed)\n",
    "relevant_df = relevant_df.drop_duplicates(subset=['Keyword'])\n",
    "\n",
    "# Apply intent labels\n",
    "relevant_df.loc[:, 'Intent'] = relevant_df['Keyword'].apply(assign_intent)\n",
    "\n",
    "# Group by intent and show top keywords\n",
    "for intent, group in relevant_df.groupby('Intent'):\n",
    "    print(f\"\\n{intent} Intent:\")\n",
    "    print(group[['Keyword', 'Avg. monthly searches']].sort_values('Avg. monthly searches', ascending=False).head(5))"
   ]
  },
  {
   "cell_type": "code",
   "execution_count": 34,
   "metadata": {},
   "outputs": [
    {
     "name": "stdout",
     "output_type": "stream",
     "text": [
      "\n",
      "Intent Summary:\n",
      "               Count  Avg. monthly searches\n",
      "Intent                                     \n",
      "Commercial       417              7008100.0\n",
      "Informational     70               147500.0\n",
      "Navigational    4943              4751900.0\n",
      "Transactional    315               197950.0\n"
     ]
    }
   ],
   "source": [
    "intent_summary = relevant_df.groupby('Intent').agg({\n",
    "    'Keyword': 'count',\n",
    "    'Avg. monthly searches': 'sum'\n",
    "}).rename(columns={'Keyword': 'Count'})\n",
    "print(\"\\nIntent Summary:\")\n",
    "print(intent_summary)"
   ]
  },
  {
   "cell_type": "code",
   "execution_count": 35,
   "metadata": {},
   "outputs": [],
   "source": [
    "relevant_df.to_csv('clustered_keywords.csv', index=False)"
   ]
  },
  {
   "cell_type": "code",
   "execution_count": 47,
   "metadata": {},
   "outputs": [
    {
     "name": "stdout",
     "output_type": "stream",
     "text": [
      "\n",
      "Landing Page for Informational Intent:\n",
      "Title: Master Agile Backend Development with Backend IM\n",
      "Subtitle: Learn How to Streamline API Creation and Testing\n",
      "Description: Discover how Backend IM empowers developers with an agile approach to backend development. Explore step-by-step guides on rapidly creating APIs, deploying them seamlessly, and testing endpoints—all designed to accelerate your workflow and deliver results faster.\n",
      "Target Keywords: agile development process, agile methodology process, agile software development process, agile development process diagram, agile process in software engineering\n",
      "\n",
      "Landing Page for Transactional Intent:\n",
      "Title: Build and Test APIs Instantly with Backend IM\n",
      "Subtitle: Your All-in-One Tool for Rapid Backend Development\n",
      "Description: Backend IM is the ultimate tool for developers who need to create, deploy, and test APIs on the fly. With an interactive interface and seamless integration, you can iterate quickly and ship robust backend solutions without the hassle—start today!\n",
      "Target Keywords: api deployment tools, agile developer tools, api creation platform, api tools, urbancode deploy\n",
      "\n",
      "Landing Page for Commercial Intent:\n",
      "Title: The Best Tool for Rapid Backend Development\n",
      "Subtitle: Why Backend IM Outshines the Rest\n",
      "Description: Looking for the top solution to streamline backend development? Backend IM offers unmatched speed and simplicity, letting you build, deploy, and test APIs effortlessly. Compare us to the competition and see why we’re the preferred choice for agile teams.\n",
      "Target Keywords: best agile software, api software development, software api, api development software, agile software development environment\n",
      "\n",
      "Landing Page for Navigational Intent:\n",
      "Title: Backend IM: Your Go-To Backend Development Platform\n",
      "Subtitle: Faster APIs, Smarter Testing, Agile Results\n",
      "Description: Welcome to Backend IM—the tool trusted by developers to create and deploy APIs in record time. Designed for agility, our platform offers instant endpoint testing and seamless integration. Join the revolution in backend development now!\n",
      "Target Keywords: api developer, postman api, agile development, low code api builder, api development companies\n"
     ]
    }
   ],
   "source": [
    "# Define landing page templates\n",
    "landing_pages = {\n",
    "    'Informational': {\n",
    "        'Title': \"Master Agile Backend Development with Backend IM\",\n",
    "        'Subtitle': \"Learn How to Streamline API Creation and Testing\",\n",
    "        'Description': \"Discover how Backend IM empowers developers with an agile approach to backend development. Explore step-by-step guides on rapidly creating APIs, deploying them seamlessly, and testing endpoints—all designed to accelerate your workflow and deliver results faster.\",\n",
    "        'Keywords': relevant_df[relevant_df['Intent'] == 'Informational'].head(5)['Keyword'].tolist()\n",
    "    },\n",
    "    'Transactional': {\n",
    "        'Title': \"Build and Test APIs Instantly with Backend IM\",\n",
    "        'Subtitle': \"Your All-in-One Tool for Rapid Backend Development\",\n",
    "        'Description': \"Backend IM is the ultimate tool for developers who need to create, deploy, and test APIs on the fly. With an interactive interface and seamless integration, you can iterate quickly and ship robust backend solutions without the hassle—start today!\",\n",
    "        'Keywords': relevant_df[relevant_df['Intent'] == 'Transactional'].head(5)['Keyword'].tolist()\n",
    "    },\n",
    "    'Commercial': {\n",
    "        'Title': \"The Best Tool for Rapid Backend Development\",\n",
    "        'Subtitle': \"Why Backend IM Outshines the Rest\",\n",
    "        'Description': \"Looking for the top solution to streamline backend development? Backend IM offers unmatched speed and simplicity, letting you build, deploy, and test APIs effortlessly. Compare us to the competition and see why we’re the preferred choice for agile teams.\",\n",
    "        'Keywords': relevant_df[relevant_df['Intent'] == 'Commercial'].head(5)['Keyword'].tolist()\n",
    "    },\n",
    "    'Navigational': {\n",
    "        'Title': \"Backend IM: Your Go-To Backend Development Platform\",\n",
    "        'Subtitle': \"Faster APIs, Smarter Testing, Agile Results\",\n",
    "        'Description': \"Welcome to Backend IM—the tool trusted by developers to create and deploy APIs in record time. Designed for agility, our platform offers instant endpoint testing and seamless integration. Join the revolution in backend development now!\",\n",
    "        'Keywords': relevant_df[relevant_df['Intent'] == 'Navigational'].head(5)['Keyword'].tolist()\n",
    "    }\n",
    "}\n",
    "\n",
    "# Print landing page proposals\n",
    "for intent, page in landing_pages.items():\n",
    "    print(f\"\\nLanding Page for {intent} Intent:\")\n",
    "    print(f\"Title: {page['Title']}\")\n",
    "    print(f\"Subtitle: {page['Subtitle']}\")\n",
    "    print(f\"Description: {page['Description']}\")\n",
    "    print(f\"Target Keywords: {', '.join(page['Keywords'])}\")"
   ]
  },
  {
   "cell_type": "code",
   "execution_count": null,
   "metadata": {},
   "outputs": [
    {
     "data": {
      "text/html": [
       "<div>\n",
       "<style scoped>\n",
       "    .dataframe tbody tr th:only-of-type {\n",
       "        vertical-align: middle;\n",
       "    }\n",
       "\n",
       "    .dataframe tbody tr th {\n",
       "        vertical-align: top;\n",
       "    }\n",
       "\n",
       "    .dataframe thead th {\n",
       "        text-align: right;\n",
       "    }\n",
       "</style>\n",
       "<table border=\"1\" class=\"dataframe\">\n",
       "  <thead>\n",
       "    <tr style=\"text-align: right;\">\n",
       "      <th></th>\n",
       "      <th>Keyword</th>\n",
       "      <th>Avg. monthly searches</th>\n",
       "      <th>Competition</th>\n",
       "      <th>Cluster</th>\n",
       "      <th>Intent</th>\n",
       "    </tr>\n",
       "  </thead>\n",
       "  <tbody>\n",
       "    <tr>\n",
       "      <th>0</th>\n",
       "      <td>api deployment tools</td>\n",
       "      <td>50.0</td>\n",
       "      <td>Medium</td>\n",
       "      <td>0</td>\n",
       "      <td>Transactional</td>\n",
       "    </tr>\n",
       "    <tr>\n",
       "      <th>1</th>\n",
       "      <td>agile developer tools</td>\n",
       "      <td>50.0</td>\n",
       "      <td>Unknown</td>\n",
       "      <td>3</td>\n",
       "      <td>Transactional</td>\n",
       "    </tr>\n",
       "    <tr>\n",
       "      <th>2</th>\n",
       "      <td>api creation platform</td>\n",
       "      <td>50.0</td>\n",
       "      <td>High</td>\n",
       "      <td>0</td>\n",
       "      <td>Transactional</td>\n",
       "    </tr>\n",
       "    <tr>\n",
       "      <th>3</th>\n",
       "      <td>api developer</td>\n",
       "      <td>5000.0</td>\n",
       "      <td>Low</td>\n",
       "      <td>0</td>\n",
       "      <td>Navigational</td>\n",
       "    </tr>\n",
       "    <tr>\n",
       "      <th>4</th>\n",
       "      <td>postman api</td>\n",
       "      <td>50000.0</td>\n",
       "      <td>Low</td>\n",
       "      <td>0</td>\n",
       "      <td>Navigational</td>\n",
       "    </tr>\n",
       "  </tbody>\n",
       "</table>\n",
       "</div>"
      ],
      "text/plain": [
       "                 Keyword  Avg. monthly searches Competition  Cluster  \\\n",
       "0   api deployment tools                   50.0      Medium        0   \n",
       "1  agile developer tools                   50.0     Unknown        3   \n",
       "2  api creation platform                   50.0        High        0   \n",
       "3          api developer                 5000.0         Low        0   \n",
       "4            postman api                50000.0         Low        0   \n",
       "\n",
       "          Intent  \n",
       "0  Transactional  \n",
       "1  Transactional  \n",
       "2  Transactional  \n",
       "3   Navigational  \n",
       "4   Navigational  "
      ]
     },
     "execution_count": 37,
     "metadata": {},
     "output_type": "execute_result"
    }
   ],
   "source": [
    "dm = pd.read_csv('clustered_keywords.csv')\n",
    "dm.head()"
   ]
  },
  {
   "cell_type": "code",
   "execution_count": 46,
   "metadata": {},
   "outputs": [
    {
     "name": "stdout",
     "output_type": "stream",
     "text": [
      "Cluster\n",
      "0    2853\n",
      "2    1450\n",
      "3     978\n",
      "1     464\n",
      "Name: count, dtype: int64\n"
     ]
    }
   ],
   "source": [
    "#find uqiue words under intent\n",
    "print(dm['Cluster'].value_counts())"
   ]
  },
  {
   "cell_type": "code",
   "execution_count": 57,
   "metadata": {},
   "outputs": [
    {
     "name": "stdout",
     "output_type": "stream",
     "text": [
      "\n",
      "Landing Page for Informational Intent:\n",
      "Title: Master Agile Backend Development with Backend IM\n",
      "Subtitle: Learn How to Streamline API Creation and Testing\n",
      "Description: Discover how Backend IM empowers developers with an agile approach to backend development. Explore step-by-step guides on rapidly creating APIs, deploying them seamlessly, and testing endpoints—all designed to accelerate your workflow and deliver results faster.\n",
      "Target Keywords: agile development process, agile methodology process, software engineering agile process\n",
      "Total Search Volume: 105,000\n",
      "\n",
      "Landing Page for Transactional Intent:\n",
      "Title: Build and Test APIs Instantly with Backend IM\n",
      "Subtitle: Your All-in-One Tool for Rapid Backend Development\n",
      "Description: Backend IM is the ultimate tool for developers who need to create, deploy, and test APIs on the fly. With an interactive interface and seamless integration, you can iterate quickly and ship robust backend solutions without the hassle—start today!\n",
      "Target Keywords: agile project management software tools, agile software development management tools, stress test tools, api management tools, api docs tools\n",
      "Total Search Volume: 115,000\n",
      "\n",
      "Landing Page for Commercial Intent:\n",
      "Title: The Best Tool for Rapid Backend Development\n",
      "Subtitle: Why Backend IM Outshines the Rest\n",
      "Description: Looking for the top solution to streamline backend development? Backend IM offers unmatched speed and simplicity, letting you build, deploy, and test APIs effortlessly. Compare us to the competition and see why we’re the preferred choice for agile teams.\n",
      "Target Keywords: adaptive software development, software agile development, agile software development methodology, manifesto for agile software development, agile software meaning\n",
      "Total Search Volume: 6,100,000\n",
      "\n",
      "Landing Page for Navigational Intent:\n",
      "Title: Backend IM: Your Go-To Backend Development Platform\n",
      "Subtitle: Faster APIs, Smarter Testing, Agile Results\n",
      "Description: Welcome to Backend IM—the tool trusted by developers to create and deploy APIs in record time. Designed for agility, our platform offers instant endpoint testing and seamless integration. Join the revolution in backend development now!\n",
      "Target Keywords: agile system development, google map api for developers, test online api, test api online, online api for testing\n",
      "Total Search Volume: 1,150,000\n"
     ]
    }
   ],
   "source": [
    "# Define landing page templates with total search volume\n",
    "landing_pages = {\n",
    "    'Informational': {\n",
    "        'Title': \"Master Agile Backend Development with Backend IM\",\n",
    "        'Subtitle': \"Learn How to Streamline API Creation and Testing\",\n",
    "        'Description': \"Discover how Backend IM empowers developers with an agile approach to backend development. Explore step-by-step guides on rapidly creating APIs, deploying them seamlessly, and testing endpoints—all designed to accelerate your workflow and deliver results faster.\",\n",
    "        'Keywords': relevant_df[relevant_df['Intent'] == 'Informational'].sort_values('Avg. monthly searches', ascending=False).head(3)['Keyword'].tolist(),\n",
    "    },\n",
    "    'Transactional': {\n",
    "        'Title': \"Build and Test APIs Instantly with Backend IM\",\n",
    "        'Subtitle': \"Your All-in-One Tool for Rapid Backend Development\",\n",
    "        'Description': \"Backend IM is the ultimate tool for developers who need to create, deploy, and test APIs on the fly. With an interactive interface and seamless integration, you can iterate quickly and ship robust backend solutions without the hassle—start today!\",\n",
    "        'Keywords': relevant_df[relevant_df['Intent'] == 'Transactional'].sort_values('Avg. monthly searches', ascending=False).head(5)['Keyword'].tolist(),\n",
    "    },\n",
    "    'Commercial': {\n",
    "        'Title': \"The Best Tool for Rapid Backend Development\",\n",
    "        'Subtitle': \"Why Backend IM Outshines the Rest\",\n",
    "        'Description': \"Looking for the top solution to streamline backend development? Backend IM offers unmatched speed and simplicity, letting you build, deploy, and test APIs effortlessly. Compare us to the competition and see why we’re the preferred choice for agile teams.\",\n",
    "        'Keywords': relevant_df[relevant_df['Intent'] == 'Commercial'].sort_values('Avg. monthly searches', ascending=False).head(5)['Keyword'].tolist(),\n",
    "    },\n",
    "    'Navigational': {\n",
    "        'Title': \"Backend IM: Your Go-To Backend Development Platform\",\n",
    "        'Subtitle': \"Faster APIs, Smarter Testing, Agile Results\",\n",
    "        'Description': \"Welcome to Backend IM—the tool trusted by developers to create and deploy APIs in record time. Designed for agility, our platform offers instant endpoint testing and seamless integration. Join the revolution in backend development now!\",\n",
    "        'Keywords': relevant_df[relevant_df['Intent'] == 'Navigational'].sort_values('Avg. monthly searches', ascending=False).head(5)['Keyword'].tolist(),\n",
    "    }\n",
    "}\n",
    "\n",
    "# Calculate total search volume for each intent's keywords\n",
    "for intent, page in landing_pages.items():\n",
    "    # Get the subset of the DataFrame matching the keywords\n",
    "    keywords_df = relevant_df[relevant_df['Keyword'].isin(page['Keywords'])]\n",
    "    # Sum the Avg. monthly searches\n",
    "    total_volume = keywords_df['Avg. monthly searches'].sum()\n",
    "    # Add to the dictionary\n",
    "    page['Total Search Volume'] = total_volume\n",
    "\n",
    "# Print landing page proposals with total search volume\n",
    "for intent, page in landing_pages.items():\n",
    "    print(f\"\\nLanding Page for {intent} Intent:\")\n",
    "    print(f\"Title: {page['Title']}\")\n",
    "    print(f\"Subtitle: {page['Subtitle']}\")\n",
    "    print(f\"Description: {page['Description']}\")\n",
    "    print(f\"Target Keywords: {', '.join(page['Keywords'])}\")\n",
    "    print(f\"Total Search Volume: {int(page['Total Search Volume']):,}\")"
   ]
  },
  {
   "cell_type": "code",
   "execution_count": 58,
   "metadata": {},
   "outputs": [
    {
     "name": "stdout",
     "output_type": "stream",
     "text": [
      "\n",
      "Cluster 0:\n",
      "41                    rest api development\n",
      "89              rest api development tools\n",
      "104    free online rest api for developers\n",
      "105        rest api testing practice sites\n",
      "123           rest api development company\n",
      "Name: Keyword, dtype: object\n",
      "\n",
      "Cluster 1:\n",
      "453                    create backend apis fast\n",
      "4069                           create rest apis\n",
      "4096    create rest api for sql server database\n",
      "4103         create api for sql server database\n",
      "4114                     create an api endpoint\n",
      "Name: Keyword, dtype: object\n",
      "\n",
      "Cluster 2:\n",
      "0     api deployment tools\n",
      "1    agile developer tools\n",
      "2    api creation platform\n",
      "3            api developer\n",
      "4              postman api\n",
      "Name: Keyword, dtype: object\n",
      "\n",
      "Cluster 3:\n",
      "36          python api development\n",
      "54            python api developer\n",
      "130    api development with python\n",
      "173      api development in python\n",
      "230                api jira python\n",
      "Name: Keyword, dtype: object\n"
     ]
    }
   ],
   "source": [
    "for cluster in range(4):\n",
    "    print(f\"\\nCluster {cluster}:\")\n",
    "    print(relevant_df[relevant_df['Cluster'] == cluster]['Keyword'].head(5))"
   ]
  }
 ],
 "metadata": {
  "kernelspec": {
   "display_name": "Python 3 (base)",
   "language": "python",
   "name": "base"
  },
  "language_info": {
   "codemirror_mode": {
    "name": "ipython",
    "version": 3
   },
   "file_extension": ".py",
   "mimetype": "text/x-python",
   "name": "python",
   "nbconvert_exporter": "python",
   "pygments_lexer": "ipython3",
   "version": "3.11.7"
  }
 },
 "nbformat": 4,
 "nbformat_minor": 2
}
