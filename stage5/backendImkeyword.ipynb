{
 "cells": [
  {
   "cell_type": "code",
   "execution_count": null,
   "metadata": {},
   "outputs": [
    {
     "name": "stdout",
     "output_type": "stream",
     "text": [
      "Saved to 'BackendIM_Keywords_with_intent.csv' with 12 columns.\n",
      "\n",
      "Landing Page for Informational Intent:\n",
      "Title: Master Backend Development with Backend IM\n",
      "Subtitle: Your Guide to Seamless API and Code Integration\n",
      "Description: Unlock the power of backend development with Backend IM. Learn fast backend development techniques, explore code generation for backend solutions, and master api integration. From Database integration to GitHub integration and continuous integration api, accelerate your skills for robust digital projects.\n",
      "Keywords: Code generation for backend, AI-powered code generation, backend development, fast backend development, api integration, api integration testing, Database integration, GitHub integration, API integration testing, continuous integration api, api integration testing tools\n",
      "\n",
      "Landing Page for Transactional Intent:\n",
      "Title: Test and Build APIs Effortlessly with Backend IM\n",
      "Subtitle: Tools for Rapid API Development and Testing\n",
      "Description: Backend IM equips you with developer api tools to test an api and streamline api integration testing. Whether using api integration testing tools or tackling API integration testing, create and validate backend solutions fast—perfect for agile workflows.\n",
      "Keywords: developer api tools, test an api, AI-powered API testing\n",
      "\n",
      "Landing Page for Commercial Intent:\n",
      "Title: Optimize Your Backend with Backend IM\n",
      "Subtitle: Fast, AI-Powered Solutions for Peak Performance\n",
      "Description: Elevate your projects with Backend IM’s backend optimization and fastapi python capabilities. Leverage AI-powered API testing and AI-powered code generation for cutting-edge efficiency. Deliver top-tier backend performance with tools designed for speed and innovation.\n",
      "Keywords: backend optimization, fastapi python\n",
      "\n",
      "Landing Page for Navigational Intent:\n",
      "Title: Backend IM: Your API Management Hub\n",
      "Subtitle: Explore REST, GraphQL, and Mock APIs\n",
      "Description: Dive into Backend IM for seamless api management. Access rest api, graphql api, and mock api resources to build and test with ease. Navigate the digital realm confidently with a platform tailored for backend excellence.\n",
      "Keywords: Automated error correction, rest api, graphql api, api management, mock api\n"
     ]
    },
    {
     "ename": "",
     "evalue": "",
     "output_type": "error",
     "traceback": [
      "\u001b[1;31mThe Kernel crashed while executing code in the current cell or a previous cell. \n",
      "\u001b[1;31mPlease review the code in the cell(s) to identify a possible cause of the failure. \n",
      "\u001b[1;31mClick <a href='https://aka.ms/vscodeJupyterKernelCrash'>here</a> for more info. \n",
      "\u001b[1;31mView Jupyter <a href='command:jupyter.viewOutput'>log</a> for further details."
     ]
    }
   ],
   "source": [
    "import pandas as pd\n",
    "\n",
    "# Load the dataset\n",
    "df = pd.read_csv('BackendIM_Keywords.csv')\n",
    "\n",
    "# Define updated intent function\n",
    "def assign_intent(keyword):\n",
    "    keyword = keyword.lower()\n",
    "    if 'development' in keyword or 'code generation' in keyword or 'integration' in keyword:\n",
    "        return 'Informational'\n",
    "    elif 'tools' in keyword or 'test' in keyword or 'testing' in keyword or 'automation' in keyword:\n",
    "        return 'Transactional'\n",
    "    elif ('fast' in keyword or 'ai-powered' in keyword or 'optimization' in keyword) and 'development' not in keyword:\n",
    "        return 'Commercial'\n",
    "    else:\n",
    "        return 'Navigational'\n",
    "\n",
    "# Apply intent labels\n",
    "df.loc[:, 'Intent'] = df['Keyword'].apply(assign_intent)\n",
    "\n",
    "# Save to CSV with all columns\n",
    "df.to_csv('BackendIM_Keywords_with_intent.csv', index=False)\n",
    "print(f\"Saved to 'BackendIM_Keywords_with_intent.csv' with {len(df.columns)} columns.\")\n",
    "\n",
    "# Define landing page content\n",
    "landing_pages = {\n",
    "    'Informational': {\n",
    "        'Title': \"Master Backend Development with Backend IM\",\n",
    "        'Subtitle': \"Your Guide to Seamless API and Code Integration\",\n",
    "        'Description': \"Unlock the power of backend development with Backend IM. Learn fast backend development techniques, explore code generation for backend solutions, and master api integration. From Database integration to GitHub integration and continuous integration api, accelerate your skills for robust digital projects.\",\n",
    "        'Keywords': df[df['Intent'] == 'Informational']['Keyword'].tolist()\n",
    "    },\n",
    "    'Transactional': {\n",
    "        'Title': \"Test and Build APIs Effortlessly with Backend IM\",\n",
    "        'Subtitle': \"Tools for Rapid API Development and Testing\",\n",
    "        'Description': \"Backend IM equips you with developer api tools to test an api and streamline api integration testing. Whether using api integration testing tools or tackling API integration testing, create and validate backend solutions fast—perfect for agile workflows.\",\n",
    "        'Keywords': df[df['Intent'] == 'Transactional']['Keyword'].tolist()\n",
    "    },\n",
    "    'Commercial': {\n",
    "        'Title': \"Optimize Your Backend with Backend IM\",\n",
    "        'Subtitle': \"Fast, AI-Powered Solutions for Peak Performance\",\n",
    "        'Description': \"Elevate your projects with Backend IM’s backend optimization and fastapi python capabilities. Leverage AI-powered API testing and AI-powered code generation for cutting-edge efficiency. Deliver top-tier backend performance with tools designed for speed and innovation.\",\n",
    "        'Keywords': df[df['Intent'] == 'Commercial']['Keyword'].tolist()\n",
    "    },\n",
    "    'Navigational': {\n",
    "        'Title': \"Backend IM: Your API Management Hub\",\n",
    "        'Subtitle': \"Explore REST, GraphQL, and Mock APIs\",\n",
    "        'Description': \"Dive into Backend IM for seamless api management. Access rest api, graphql api, and mock api resources to build and test with ease. Navigate the digital realm confidently with a platform tailored for backend excellence.\",\n",
    "        'Keywords': df[df['Intent'] == 'Navigational']['Keyword'].tolist()\n",
    "    }\n",
    "}\n",
    "\n",
    "# Print landing page proposals\n",
    "for intent, page in landing_pages.items():\n",
    "    print(f\"\\nLanding Page for {intent} Intent:\")\n",
    "    print(f\"Title: {page['Title']}\")\n",
    "    print(f\"Subtitle: {page['Subtitle']}\")\n",
    "    print(f\"Description: {page['Description']}\")\n",
    "    print(f\"Keywords: {', '.join(page['Keywords'])}\")"
   ]
  }
 ],
 "metadata": {
  "kernelspec": {
   "display_name": "Python 3 (base)",
   "language": "python",
   "name": "base"
  },
  "language_info": {
   "codemirror_mode": {
    "name": "ipython",
    "version": 3
   },
   "file_extension": ".py",
   "mimetype": "text/x-python",
   "name": "python",
   "nbconvert_exporter": "python",
   "pygments_lexer": "ipython3",
   "version": "3.11.7"
  }
 },
 "nbformat": 4,
 "nbformat_minor": 2
}
