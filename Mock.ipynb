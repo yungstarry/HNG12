{
 "cells": [
  {
   "cell_type": "code",
   "execution_count": null,
   "metadata": {},
   "outputs": [
    {
     "name": "stdout",
     "output_type": "stream",
     "text": [
      "Total Cups Sold by Shop:\n",
      "Downtown: 165 cups\n",
      "Uptown: 65 cups\n",
      "Suburb: 85 cups\n",
      "The shop with the highest number of cups sold is Downtown.\n"
     ]
    }
   ],
   "source": [
    "coffee_sales = [\n",
    "    {\"shop\": \"Downtown\", \"cups_sold\": 50},\n",
    "    {\"shop\": \"Uptown\", \"cups_sold\": 30},\n",
    "    {\"shop\": \"Suburb\", \"cups_sold\": 40},\n",
    "    {\"shop\": \"Downtown\", \"cups_sold\": 55},\n",
    "    {\"shop\": \"Uptown\", \"cups_sold\": 35},\n",
    "    {\"shop\": \"Suburb\", \"cups_sold\": 45},\n",
    "    {\"shop\": \"Downtown\", \"cups_sold\": 60}\n",
    "]\n",
    "\n",
    "shops_total = {}\n",
    "for sale in coffee_sales:\n",
    "    shop = sale['shop']\n",
    "    cups = sale['cups_sold']\n",
    "    if shop in shops_total:\n",
    "        shops_total[shop] += cups\n",
    "    else:\n",
    "        shops_total[shop] = cups\n",
    "\n",
    "top_shop = max(shops_total, key=lambda x: shops_total[x])\n",
    "\n",
    "\n",
    "print(f\"Total Cups Sold by Shop:\")\n",
    "for shop, cups in shops_total.items():\n",
    "    print(f\"{shop}: {cups} cups\")\n",
    "print(f\"The shop with the highest number of cups sold is {top_shop}.\")"
   ]
  },
  {
   "cell_type": "code",
   "execution_count": null,
   "metadata": {},
   "outputs": [],
   "source": []
  }
 ],
 "metadata": {
  "kernelspec": {
   "display_name": "Python 3 (base)",
   "language": "python",
   "name": "base"
  },
  "language_info": {
   "codemirror_mode": {
    "name": "ipython",
    "version": 3
   },
   "file_extension": ".py",
   "mimetype": "text/x-python",
   "name": "python",
   "nbconvert_exporter": "python",
   "pygments_lexer": "ipython3",
   "version": "3.11.7"
  }
 },
 "nbformat": 4,
 "nbformat_minor": 2
}
