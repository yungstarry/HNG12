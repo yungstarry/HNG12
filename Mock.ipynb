{
 "cells": [
  {
   "cell_type": "code",
   "execution_count": 17,
   "metadata": {},
   "outputs": [
    {
     "name": "stdout",
     "output_type": "stream",
     "text": [
      "Average Daily Steps per User\n",
      "user1 : 6028.57\n",
      "user2 : 3400.00\n",
      "user3 : 8971.43\n",
      "\n",
      "User with Highest Average Steps:\n",
      "user3 with 8971.43 steps\n"
     ]
    }
   ],
   "source": [
    "import pandas as pd\n",
    "import matplotlib.pyplot as plt\n",
    "\n",
    "step_data = {\n",
    "    \"user1\": [5000, 6000, 4500, 7000, 8000, 5500, 6200],\n",
    "    \"user2\": [3000, 3500, 4000, 3200, 3100, 3400, 3600],\n",
    "    \"user3\": [9000, 8500, 9500, 8700, 9200, 8800, 9100]\n",
    "}\n",
    "\n",
    "\n",
    "avg_steps = {}\n",
    "for user, steps in step_data.items():\n",
    "    avg = sum(steps) / len(steps)\n",
    "    avg_steps[user] = avg\n",
    "\n",
    "top_user = max(avg_steps, key=lambda x: avg_steps[x])\n",
    "\n",
    "print(f\"Average Daily Steps per User\")\n",
    "for user, avg in avg_steps.items():\n",
    "    print(f\"{user} : {avg:.2f}\")\n",
    "\n",
    "print(f\"\\nUser with Highest Average Steps:\")\n",
    "print(f\"{top_user} with {avg_steps[top_user]:.2f} steps\")"
   ]
  },
  {
   "cell_type": "code",
   "execution_count": null,
   "metadata": {},
   "outputs": [],
   "source": []
  }
 ],
 "metadata": {
  "kernelspec": {
   "display_name": "Python 3 (base)",
   "language": "python",
   "name": "base"
  },
  "language_info": {
   "codemirror_mode": {
    "name": "ipython",
    "version": 3
   },
   "file_extension": ".py",
   "mimetype": "text/x-python",
   "name": "python",
   "nbconvert_exporter": "python",
   "pygments_lexer": "ipython3",
   "version": "3.11.7"
  }
 },
 "nbformat": 4,
 "nbformat_minor": 2
}
