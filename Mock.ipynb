{
 "cells": [
  {
   "cell_type": "code",
   "execution_count": null,
   "metadata": {},
   "outputs": [
    {
     "name": "stdout",
     "output_type": "stream",
     "text": [
      "Top 3 students with the highest average grades:\n",
      "   student_id  Avg_grade\n",
      "4           5       92.0\n",
      "1           2       91.0\n",
      "0           1       86.5\n"
     ]
    }
   ],
   "source": [
    "# Step 1: Create and Load the Dataset\n",
    "import pandas as pd\n",
    "\n",
    "# Mock student grades data\n",
    "data = {\n",
    "    \"student_id\": [1, 2, 3, 1, 2, 3, 4, 5, 4, 5],\n",
    "    \"course_name\": [\"Math\", \"Math\", \"Math\", \"Physics\", \"Physics\", \"Physics\", \"Chemistry\", \"Chemistry\", \"Biology\", \"Biology\"],\n",
    "    \"grade\": [85, 90, 78, 88, 92, 81, 76, 89, 84, 95]\n",
    "}\n",
    "\n",
    "# Create a DataFrame\n",
    "df = pd.DataFrame(data)\n",
    "\n",
    "Avg_grade = df.groupby('student_id')['grade'].mean().reset_index()\n",
    "Avg_grade.rename(columns={'grade': 'Avg_grade'}, inplace=True)\n",
    "\n",
    "top_3_students = Avg_grade.sort_values(by='Avg_grade', ascending=False).head(3)\n",
    "\n",
    "\n",
    "\n",
    "print(\"Top 3 students with the highest average grades:\")\n",
    "print(top_3_students)\n",
    "\n"
   ]
  },
  {
   "cell_type": "code",
   "execution_count": null,
   "metadata": {},
   "outputs": [],
   "source": []
  },
  {
   "cell_type": "code",
   "execution_count": null,
   "metadata": {},
   "outputs": [],
   "source": []
  }
 ],
 "metadata": {
  "kernelspec": {
   "display_name": "Python 3 (base)",
   "language": "python",
   "name": "base"
  },
  "language_info": {
   "codemirror_mode": {
    "name": "ipython",
    "version": 3
   },
   "file_extension": ".py",
   "mimetype": "text/x-python",
   "name": "python",
   "nbconvert_exporter": "python",
   "pygments_lexer": "ipython3",
   "version": "3.11.7"
  }
 },
 "nbformat": 4,
 "nbformat_minor": 2
}
