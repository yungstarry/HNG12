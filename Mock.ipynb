{
 "cells": [
  {
   "cell_type": "code",
   "execution_count": null,
   "metadata": {},
   "outputs": [
    {
     "name": "stdout",
     "output_type": "stream",
     "text": [
      "The vendor with the highest number of baskets sold is Mama Ngozi with 63 baskets sold.\n",
      "Mama Ngozi: 63 baskets sold\n",
      "Bros Tunde: 37 baskets sold\n",
      "Sisi Amina: 45 baskets sold\n"
     ]
    }
   ],
   "source": [
    "import pandas as pd\n",
    "fruit_sales = [\n",
    "    {\"vendor\": \"Mama Ngozi\", \"baskets_sold\": 20},\n",
    "    {\"vendor\": \"Bros Tunde\", \"baskets_sold\": 15},\n",
    "    {\"vendor\": \"Sisi Amina\", \"baskets_sold\": 25},\n",
    "    {\"vendor\": \"Mama Ngozi\", \"baskets_sold\": 18},\n",
    "    {\"vendor\": \"Bros Tunde\", \"baskets_sold\": 22},\n",
    "    {\"vendor\": \"Sisi Amina\", \"baskets_sold\": 20},\n",
    "    {\"vendor\": \"Mama Ngozi\", \"baskets_sold\": 25}\n",
    "]\n",
    "\n",
    "\n",
    "total_basket_sold = {}\n",
    "\n",
    "for sale in fruit_sales:\n",
    "    vendor = sale['vendor']\n",
    "    basket_sold = sale['baskets_sold']\n",
    "    if vendor in total_basket_sold:\n",
    "        total_basket_sold[vendor] +=  basket_sold\n",
    "    else:\n",
    "        total_basket_sold[vendor] = basket_sold\n",
    "\n",
    "top_vendor = max(total_basket_sold, key=lambda x: total_basket_sold[x])\n",
    "\n",
    "print(f\"The vendor with the highest number of baskets sold is \n",
    "{top_vendor} with {total_basket_sold[top_vendor]} baskets sold.\")\n",
    "\n",
    "for vendor, total_basket_sold in total_basket_sold.items():\n",
    "    print(f\"{vendor}: {total_basket_sold} baskets sold\")"
   ]
  },
  {
   "cell_type": "code",
   "execution_count": null,
   "metadata": {},
   "outputs": [],
   "source": []
  }
 ],
 "metadata": {
  "kernelspec": {
   "display_name": "Python 3 (base)",
   "language": "python",
   "name": "base"
  },
  "language_info": {
   "codemirror_mode": {
    "name": "ipython",
    "version": 3
   },
   "file_extension": ".py",
   "mimetype": "text/x-python",
   "name": "python",
   "nbconvert_exporter": "python",
   "pygments_lexer": "ipython3",
   "version": "3.11.7"
  }
 },
 "nbformat": 4,
 "nbformat_minor": 2
}
