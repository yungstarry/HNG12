{
 "cells": [
  {
   "cell_type": "code",
   "execution_count": 15,
   "metadata": {},
   "outputs": [
    {
     "name": "stdout",
     "output_type": "stream",
     "text": [
      "Total Revenue per Product:\n",
      "Laptop: $4000.00\n",
      "Mouse: $500.00\n",
      "Keyboard: $600.00\n",
      "\n",
      "Product with the Highest Revenue\n",
      "Laptop $4000.00\n"
     ]
    }
   ],
   "source": [
    "import pandas as pd\n",
    "import matplotlib.pyplot as plt\n",
    "\n",
    "sales_data =[\n",
    "    {\"product\": \"Laptop\", \"quantity_sold\": 5, \"unit_price\": 800},\n",
    "    {\"product\": \"Mouse\", \"quantity_sold\": 20, \"unit_price\": 25},\n",
    "    {\"product\": \"Keyboard\", \"quantity_sold\": 15, \"unit_price\": 40}\n",
    "]\n",
    "\n",
    "\n",
    "\n",
    "revenue_list = []\n",
    "\n",
    "for product in sales_data:\n",
    "    revenue = product['quantity_sold'] * product['unit_price']\n",
    "    revenue_list.append({'product':product['product'], 'revenue':revenue})\n",
    "    \n",
    "top_product = max(revenue_list, key=lambda x:x['revenue'])\n",
    "\n",
    "print('Total Revenue per Product:')\n",
    "for product in revenue_list:\n",
    "    print(f\"{product['product']}: ${product['revenue']:.2f}\")\n",
    "\n",
    "print(\"\\nProduct with the Highest Revenue\")\n",
    "print(f\"{top_product['product']} ${top_product['revenue']:.2f}\")"
   ]
  },
  {
   "cell_type": "code",
   "execution_count": null,
   "metadata": {},
   "outputs": [],
   "source": []
  }
 ],
 "metadata": {
  "kernelspec": {
   "display_name": "Python 3 (base)",
   "language": "python",
   "name": "base"
  },
  "language_info": {
   "codemirror_mode": {
    "name": "ipython",
    "version": 3
   },
   "file_extension": ".py",
   "mimetype": "text/x-python",
   "name": "python",
   "nbconvert_exporter": "python",
   "pygments_lexer": "ipython3",
   "version": "3.11.7"
  }
 },
 "nbformat": 4,
 "nbformat_minor": 2
}
