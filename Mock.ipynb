{
 "cells": [
  {
   "cell_type": "code",
   "execution_count": null,
   "metadata": {},
   "outputs": [
    {
     "name": "stdout",
     "output_type": "stream",
     "text": [
      "         Date     Product  Units_Sold  Unit_Price\n",
      "0  2025-02-01      Laptop           5        1000\n",
      "1  2025-02-02       Phone          10         500\n",
      "2  2025-02-03  Headphones          20          50\n",
      "3  2025-02-04      Laptop           3        1000\n",
      "4  2025-02-05       Phone           8         500\n",
      "{'Laptop': 8000, 'Phone': 9000, 'Headphones': 1000}\n",
      "Total Revenue by Product:\n",
      "Laptop: $8000\n",
      "Phone: $9000\n",
      "Headphones: $1000\n",
      "\n",
      "Top Product: Phone with Revenue: $9000\n"
     ]
    }
   ],
   "source": [
    "import pandas as pd\n",
    "\n",
    "sales_data = [\n",
    "    {\"Date\": \"2025-02-01\", \"Product\": \"Laptop\", \"Units_Sold\": 5, \"Unit_Price\": 1000},\n",
    "    {\"Date\": \"2025-02-02\", \"Product\": \"Phone\", \"Units_Sold\": 10, \"Unit_Price\": 500},\n",
    "    {\"Date\": \"2025-02-03\", \"Product\": \"Headphones\", \"Units_Sold\": 20, \"Unit_Price\": 50},\n",
    "    {\"Date\": \"2025-02-04\", \"Product\": \"Laptop\", \"Units_Sold\": 3, \"Unit_Price\": 1000},\n",
    "    {\"Date\": \"2025-02-05\", \"Product\": \"Phone\", \"Units_Sold\": 8, \"Unit_Price\": 500},\n",
    "]\n",
    "\n",
    "df = pd.DataFrame(sales_data)\n",
    "print(df.head())\n",
    "\n",
    "product_revenue= {}\n",
    "\n",
    "for sale in sales_data:\n",
    "    product = sale['Product']\n",
    "    revenue = sale[\"Units_Sold\"] * sale[\"Unit_Price\"]\n",
    "    if product in product_revenue:\n",
    "        product_revenue[product] += revenue\n",
    "    else:\n",
    "        product_revenue[product] = revenue\n",
    "\n",
    "print(product_revenue)\n",
    "\n",
    "top_product = max(product_revenue, key=product_revenue.get)\n",
    "top_revenue = product_revenue[top_product]\n",
    "\n",
    "print(\"Total Revenue by Product:\")\n",
    "for product,revenue in product_revenue.items():\n",
    "        print(f\"{product}: ${revenue}\")\n",
    "\n",
    "print(f\"\\nTop Product: {top_product} with Revenue: ${top_revenue}\")"
   ]
  },
  {
   "cell_type": "code",
   "execution_count": null,
   "metadata": {},
   "outputs": [],
   "source": []
  }
 ],
 "metadata": {
  "kernelspec": {
   "display_name": "Python 3 (base)",
   "language": "python",
   "name": "base"
  },
  "language_info": {
   "codemirror_mode": {
    "name": "ipython",
    "version": 3
   },
   "file_extension": ".py",
   "mimetype": "text/x-python",
   "name": "python",
   "nbconvert_exporter": "python",
   "pygments_lexer": "ipython3",
   "version": "3.11.7"
  }
 },
 "nbformat": 4,
 "nbformat_minor": 2
}
